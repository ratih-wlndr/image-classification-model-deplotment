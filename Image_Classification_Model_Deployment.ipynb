{
  "cells": [
    {
      "cell_type": "code",
      "execution_count": 1,
      "metadata": {
        "colab": {
          "base_uri": "https://localhost:8080/"
        },
        "id": "5HlEv1P0yrFH",
        "outputId": "cf686d22-df9f-4869-cd9e-16a7cbae6044"
      },
      "outputs": [
        {
          "name": "stdout",
          "output_type": "stream",
          "text": [
            "Drive already mounted at /content/drive; to attempt to forcibly remount, call drive.mount(\"/content/drive\", force_remount=True).\n"
          ]
        }
      ],
      "source": [
        "from google.colab import drive\n",
        "drive.mount('/content/drive')"
      ]
    },
    {
      "cell_type": "code",
      "execution_count": 2,
      "metadata": {
        "colab": {
          "base_uri": "https://localhost:8080/"
        },
        "id": "fGRMluXx-q1M",
        "outputId": "6aa1167c-3f3c-432e-963e-05a9b2d10469"
      },
      "outputs": [
        {
          "name": "stdout",
          "output_type": "stream",
          "text": [
            "2100\n"
          ]
        }
      ],
      "source": [
        "import os\n",
        "\n",
        "list_file = []\n",
        "list_label = []\n",
        "list_path = []\n",
        "\n",
        "for path, subdirs, files in os.walk('/content/drive/MyDrive/Cat-Dog-Person'):\n",
        "  for file in files:\n",
        "    list_file.append(file)\n",
        "    list_label.append(path.split('/')[-1])\n",
        "    list_path.append(os.path.join(path, file))\n",
        "\n",
        "print(len(list_file))"
      ]
    },
    {
      "cell_type": "code",
      "execution_count": null,
      "metadata": {
        "colab": {
          "base_uri": "https://localhost:8080/",
          "height": 419
        },
        "id": "OS2IkcjkvdZp",
        "outputId": "4916453a-6def-46fd-d876-7bdc82416b57"
      },
      "outputs": [],
      "source": [
        "import pandas as pd\n",
        "\n",
        "df = pd.DataFrame({'file' : list_file, 'label' : list_label, 'path' : list_path})"
      ]
    },
    {
      "cell_type": "code",
      "execution_count": 4,
      "metadata": {
        "colab": {
          "base_uri": "https://localhost:8080/"
        },
        "id": "zo3QadaL2z9D",
        "outputId": "6f13c71f-c964-45a8-d678-9398f5af11c7"
      },
      "outputs": [
        {
          "name": "stdout",
          "output_type": "stream",
          "text": [
            "Banyak Data Latih    :  1680\n",
            "Banyak Data Validasi :  420\n"
          ]
        }
      ],
      "source": [
        "from sklearn.model_selection import train_test_split\n",
        "\n",
        "x_train, x_test, y_train, y_test = train_test_split(df['path'], df['label'], test_size=0.2, random_state=100)\n",
        "df_train = pd.DataFrame({'x' : x_train, 'y' : y_train})\n",
        "df_test = pd.DataFrame({'x' : x_test, 'y' : y_test})\n",
        "\n",
        "print('Banyak Data Latih    : ', len(df_train))\n",
        "print('Banyak Data Validasi : ', len(df_test))"
      ]
    },
    {
      "cell_type": "code",
      "execution_count": 5,
      "metadata": {
        "colab": {
          "base_uri": "https://localhost:8080/"
        },
        "id": "gnmXTNtc21Hj",
        "outputId": "bee75d8e-ce24-46f2-fc25-8dfb632f1357"
      },
      "outputs": [
        {
          "name": "stdout",
          "output_type": "stream",
          "text": [
            "Found 1680 validated image filenames belonging to 3 classes.\n",
            "Found 420 validated image filenames belonging to 3 classes.\n"
          ]
        }
      ],
      "source": [
        "from keras.preprocessing.image import ImageDataGenerator\n",
        "\n",
        "train_generator = ImageDataGenerator(rotation_range=40,\n",
        "                                     width_shift_range=0.2,\n",
        "                                     height_shift_range=0.2,\n",
        "                                     rescale=1./255,\n",
        "                                     shear_range=0.2,\n",
        "                                     zoom_range=0.2,\n",
        "                                     horizontal_flip=True,\n",
        "                                     fill_mode='nearest')\n",
        "test_generator = ImageDataGenerator()\n",
        "\n",
        "data_train_generator = train_generator.flow_from_dataframe(dataframe=df_train, \n",
        "                                                          directory='/content/drive/MyDrive/Cat-Dog-Person',\n",
        "                                                          target_size=(256, 256),\n",
        "                                                          x_col='x', y_col='y')\n",
        "data_test_generator = test_generator.flow_from_dataframe(dataframe=df_test, \n",
        "                                                          directory='/content/drive/MyDrive/Cat-Dog-Person',\n",
        "                                                          target_size=(256, 256),\n",
        "                                                          x_col='x', y_col='y')"
      ]
    },
    {
      "cell_type": "code",
      "execution_count": 6,
      "metadata": {
        "colab": {
          "base_uri": "https://localhost:8080/"
        },
        "id": "5CALrwU924f6",
        "outputId": "e81712b0-fce9-4eb0-f1bd-5b7acb418279"
      },
      "outputs": [
        {
          "name": "stdout",
          "output_type": "stream",
          "text": [
            "Epoch 1/20\n",
            "53/53 [==============================] - 497s 9s/step - loss: 1.1088 - accuracy: 0.3315 - val_loss: 1.0793 - val_accuracy: 0.3476\n",
            "Epoch 2/20\n",
            "53/53 [==============================] - 32s 604ms/step - loss: 1.0990 - accuracy: 0.3107 - val_loss: 1.0931 - val_accuracy: 0.3190\n",
            "Epoch 3/20\n",
            "53/53 [==============================] - 32s 600ms/step - loss: 1.0988 - accuracy: 0.3190 - val_loss: 1.0908 - val_accuracy: 0.3143\n",
            "Epoch 4/20\n",
            "53/53 [==============================] - 32s 604ms/step - loss: 1.0993 - accuracy: 0.3238 - val_loss: 1.1005 - val_accuracy: 0.3429\n",
            "Epoch 5/20\n",
            "53/53 [==============================] - 32s 610ms/step - loss: 1.0988 - accuracy: 0.3214 - val_loss: 1.0990 - val_accuracy: 0.3333\n",
            "Epoch 6/20\n",
            "53/53 [==============================] - 32s 611ms/step - loss: 1.0995 - accuracy: 0.3238 - val_loss: 1.1002 - val_accuracy: 0.3429\n",
            "Epoch 7/20\n",
            "53/53 [==============================] - 32s 607ms/step - loss: 1.0987 - accuracy: 0.3482 - val_loss: 1.1001 - val_accuracy: 0.3405\n",
            "Epoch 8/20\n",
            "53/53 [==============================] - 32s 605ms/step - loss: 1.0990 - accuracy: 0.3280 - val_loss: 1.1001 - val_accuracy: 0.3357\n",
            "Epoch 9/20\n",
            "53/53 [==============================] - 32s 601ms/step - loss: 1.0991 - accuracy: 0.3256 - val_loss: 1.0997 - val_accuracy: 0.3238\n",
            "Epoch 10/20\n",
            "53/53 [==============================] - 32s 606ms/step - loss: 1.0991 - accuracy: 0.3196 - val_loss: 1.0997 - val_accuracy: 0.3286\n",
            "Epoch 11/20\n",
            "53/53 [==============================] - 32s 602ms/step - loss: 1.0988 - accuracy: 0.3310 - val_loss: 1.0996 - val_accuracy: 0.3262\n",
            "Epoch 12/20\n",
            "53/53 [==============================] - 32s 607ms/step - loss: 1.0987 - accuracy: 0.3363 - val_loss: 1.0996 - val_accuracy: 0.3262\n",
            "Epoch 13/20\n",
            "53/53 [==============================] - 32s 609ms/step - loss: 1.0990 - accuracy: 0.3268 - val_loss: 1.0994 - val_accuracy: 0.3262\n",
            "Epoch 14/20\n",
            "53/53 [==============================] - 32s 610ms/step - loss: 1.0988 - accuracy: 0.3345 - val_loss: 1.0996 - val_accuracy: 0.3238\n",
            "Epoch 15/20\n",
            "53/53 [==============================] - 32s 613ms/step - loss: 1.0987 - accuracy: 0.3369 - val_loss: 1.0996 - val_accuracy: 0.3286\n",
            "Epoch 16/20\n",
            "53/53 [==============================] - 32s 610ms/step - loss: 1.0990 - accuracy: 0.3214 - val_loss: 1.0996 - val_accuracy: 0.3262\n",
            "Epoch 17/20\n",
            "53/53 [==============================] - 33s 615ms/step - loss: 1.0987 - accuracy: 0.3357 - val_loss: 1.0994 - val_accuracy: 0.3286\n",
            "Epoch 18/20\n",
            "53/53 [==============================] - 33s 615ms/step - loss: 1.0989 - accuracy: 0.3274 - val_loss: 1.0997 - val_accuracy: 0.3262\n",
            "Epoch 19/20\n",
            "53/53 [==============================] - 33s 614ms/step - loss: 1.0988 - accuracy: 0.3333 - val_loss: 1.0997 - val_accuracy: 0.3286\n",
            "Epoch 20/20\n",
            "53/53 [==============================] - 32s 610ms/step - loss: 1.0987 - accuracy: 0.3357 - val_loss: 1.0997 - val_accuracy: 0.3262\n"
          ]
        }
      ],
      "source": [
        "import tensorflow as tf\n",
        "\n",
        "model = tf.keras.models.Sequential([\n",
        "    tf.keras.layers.Conv2D(96, (11,11), strides=4, activation='relu', input_shape=(256, 256, 3)),\n",
        "    tf.keras.layers.MaxPooling2D((3,3), strides=2),\n",
        "\n",
        "    tf.keras.layers.Conv2D(256, (5,5), strides=1, activation='relu'),\n",
        "    tf.keras.layers.MaxPooling2D((3,3), strides=2),\n",
        "\n",
        "    tf.keras.layers.Conv2D(384, (3,3), strides=1, activation='relu'),\n",
        "    tf.keras.layers.Conv2D(384, (3,3), strides=1, activation='relu'),\n",
        "    tf.keras.layers.Conv2D(256, (3,3), strides=1, activation='relu'),\n",
        "    tf.keras.layers.MaxPooling2D((3,3), strides=2),\n",
        "    tf.keras.layers.Dropout(0.5),\n",
        "    tf.keras.layers.Flatten(),\n",
        "    tf.keras.layers.Dense(32, activation='relu'),\n",
        "    tf.keras.layers.Dense(3, activation='softmax')\n",
        "])\n",
        "\n",
        "model.compile(loss='categorical_crossentropy', optimizer='adam', metrics=['accuracy'])\n",
        "\n",
        "mc = tf.keras.callbacks.ModelCheckpoint(filepath='/content/drive/MyDrive/model_deployment.h5', monitor='val_accuracy', mode='max', save_best_only=True)\n",
        "\n",
        "history = model.fit(data_train_generator, epochs=20, validation_data=data_test_generator, callbacks=[mc])"
      ]
    },
    {
      "cell_type": "code",
      "execution_count": 7,
      "metadata": {
        "colab": {
          "base_uri": "https://localhost:8080/",
          "height": 215
        },
        "id": "Hqk4swv6260d",
        "outputId": "9580b9ff-3c77-485d-af55-a14143d07f3b"
      },
      "outputs": [
        {
          "name": "stdout",
          "output_type": "stream",
          "text": [
            "53/53 [==============================] - 30s 560ms/step - loss: 1.0986 - accuracy: 0.3333\n",
            "14/14 [==============================] - 2s 129ms/step - loss: 1.0793 - accuracy: 0.3476\n",
            "Train: 0.3333, Test: 0.3476\n"
          ]
        },
        {
          "data": {
            "image/png": "[encoded data removed]",
            "text/plain": [
              "<Figure size 432x288 with 2 Axes>"
            ]
          },
          "metadata": {
            "needs_background": "light"
          },
          "output_type": "display_data"
        }
      ],
      "source": [
        "import matplotlib.pyplot as plt\n",
        "\n",
        "model = tf.keras.models.load_model('/content/drive/MyDrive/model_deployment.h5')\n",
        "\n",
        "_, train_acc = model.evaluate(data_train_generator)\n",
        "_, val_acc = model.evaluate(data_test_generator)\n",
        "print('Train: %.4f, Test: %.4f' % (train_acc, val_acc))\n",
        "\n",
        "plt.subplot(2, 2, 1)\n",
        "plt.plot(history.history['accuracy'])\n",
        "plt.plot(history.history['val_accuracy'])\n",
        "plt.xlabel('epoch')\n",
        "plt.legend(['accuracy', 'val_accuracy'], loc='upper left')\n",
        "\n",
        "plt.subplot(2, 2, 2)\n",
        "plt.plot(history.history['loss'])\n",
        "plt.plot(history.history['val_loss'])\n",
        "plt.xlabel('epoch')\n",
        "plt.legend(['loss', 'val_loss'], loc='upper left')\n",
        "plt.show()"
      ]
    },
    {
      "cell_type": "code",
      "execution_count": 8,
      "metadata": {
        "colab": {
          "base_uri": "https://localhost:8080/"
        },
        "id": "H8hnxW0y25x-",
        "outputId": "c35ab426-ea67-46db-da64-6265b021f6ce"
      },
      "outputs": [
        {
          "name": "stdout",
          "output_type": "stream",
          "text": [
            "Model: \"sequential\"\n",
            "_________________________________________________________________\n",
            "Layer (type)                 Output Shape              Param #   \n",
            "=================================================================\n",
            "conv2d (Conv2D)              (None, 62, 62, 96)        34944     \n",
            "_________________________________________________________________\n",
            "max_pooling2d (MaxPooling2D) (None, 30, 30, 96)        0         \n",
            "_________________________________________________________________\n",
            "conv2d_1 (Conv2D)            (None, 26, 26, 256)       614656    \n",
            "_________________________________________________________________\n",
            "max_pooling2d_1 (MaxPooling2 (None, 12, 12, 256)       0         \n",
            "_________________________________________________________________\n",
            "conv2d_2 (Conv2D)            (None, 10, 10, 384)       885120    \n",
            "_________________________________________________________________\n",
            "conv2d_3 (Conv2D)            (None, 8, 8, 384)         1327488   \n",
            "_________________________________________________________________\n",
            "conv2d_4 (Conv2D)            (None, 6, 6, 256)         884992    \n",
            "_________________________________________________________________\n",
            "max_pooling2d_2 (MaxPooling2 (None, 2, 2, 256)         0         \n",
            "_________________________________________________________________\n",
            "dropout (Dropout)            (None, 2, 2, 256)         0         \n",
            "_________________________________________________________________\n",
            "flatten (Flatten)            (None, 1024)              0         \n",
            "_________________________________________________________________\n",
            "dense (Dense)                (None, 32)                32800     \n",
            "_________________________________________________________________\n",
            "dense_1 (Dense)              (None, 3)                 99        \n",
            "=================================================================\n",
            "Total params: 3,780,099\n",
            "Trainable params: 3,780,099\n",
            "Non-trainable params: 0\n",
            "_________________________________________________________________\n"
          ]
        }
      ],
      "source": [
        "model.summary()"
      ]
    },
    {
      "cell_type": "code",
      "execution_count": 9,
      "metadata": {
        "colab": {
          "base_uri": "https://localhost:8080/"
        },
        "id": "ai32UZQvBYn_",
        "outputId": "c900afa0-c59c-4e2f-eff3-7c84f7b58b0d"
      },
      "outputs": [
        {
          "name": "stdout",
          "output_type": "stream",
          "text": [
            "INFO:tensorflow:Assets written to: /tmp/tmpyvwbval9/assets\n"
          ]
        }
      ],
      "source": [
        "converter = tf.lite.TFLiteConverter.from_keras_model(model)\n",
        "tflite_model = converter.convert()"
      ]
    },
    {
      "cell_type": "code",
      "execution_count": 10,
      "metadata": {
        "id": "N4Cp8VuxB9lm"
      },
      "outputs": [],
      "source": [
        "with tf.io.gfile.GFile('/content/drive/MyDrive/model.tflite', 'wb') as f:\n",
        "  f.write(tflite_model)"
      ]
    }
  ],
  "metadata": {
    "accelerator": "GPU",
    "colab": {
      "collapsed_sections": [],
      "name": "Image Classification Model Deployment.ipynb",
      "provenance": []
    },
    "kernelspec": {
      "display_name": "Python 3",
      "name": "python3"
    },
    "language_info": {
      "name": "python"
    }
  },
  "nbformat": 4,
  "nbformat_minor": 0
}
